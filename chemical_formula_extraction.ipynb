{
  "nbformat": 4,
  "nbformat_minor": 0,
  "metadata": {
    "colab": {
      "name": "chemical formula extraction.ipynb",
      "provenance": [],
      "authorship_tag": "ABX9TyPZBSOoGxajMJXdHyE/pA68",
      "include_colab_link": true
    },
    "kernelspec": {
      "name": "python3",
      "display_name": "Python 3"
    },
    "language_info": {
      "name": "python"
    }
  },
  "cells": [
    {
      "cell_type": "markdown",
      "metadata": {
        "id": "view-in-github",
        "colab_type": "text"
      },
      "source": [
        "<a href=\"https://colab.research.google.com/github/venky005/chemical-formula-extraction-and-equations/blob/main/chemical_formula_extraction.ipynb\" target=\"_parent\"><img src=\"https://colab.research.google.com/assets/colab-badge.svg\" alt=\"Open In Colab\"/></a>"
      ]
    },
    {
      "cell_type": "code",
      "metadata": {
        "colab": {
          "base_uri": "https://localhost:8080/"
        },
        "id": "gCZiyXASy8zu",
        "outputId": "2b9b6a34-c003-4e86-92f5-0dc5a8f1aeee"
      },
      "source": [
        "import PyPDF2\n",
        "import textract\n",
        "import nltk\n",
        "import pubchempy as pc\n",
        "f= open(\"3.pdf\",'rb')\n",
        "fr= PyPDF2.PdfFileReader(f)\n",
        "        #pageObj=fr.getPage(1)\n",
        "text=\"\"\n",
        "num_pages = fr.numPages\n",
        "count = 0\n",
        "text = \"\"\n",
        "        #The while loop will read each page\n",
        "while count < num_pages:\n",
        "        pageObj = fr.getPage(count)\n",
        "        count +=1\n",
        "        text += pageObj.extractText()\n",
        "        if text != \"\":\n",
        "            text = text\n",
        "        #            newString = (text.encode('ascii', 'ignore')).decode(\"utf-8\")\n",
        "        else:\n",
        "              text = textract.process(input, method='tesseract', language='eng')\n",
        "        #            newString = (text.encode('ascii', 'ignore')).decode(\"utf-8\")\n",
        "words = set(nltk.corpus.words.words())\n",
        "s=\" \".join(w for w in nltk.wordpunct_tokenize(text) \\\n",
        "        \n",
        "         if (w.lower() not in words and w.upper() not in words))\n",
        "        #print(s)\n",
        "        #print(text)\n",
        "l=list(filter(lambda x:x[0].isupper(),s.split()))\n",
        "        #print(l)\n",
        "l=list(dict.fromkeys(l))\n",
        "        \n",
        "freq={}\n",
        "for i in range(10):\n",
        "              try:    \n",
        "                    results = pc.get_cids(l[i], 'name')\n",
        "                    c=pc.Compound.from_cid(results)\n",
        "                    ''' if(i in freq):\n",
        "                        freq[l[i]][1]+=1\n",
        "                    else:\n",
        "                        freq[l[i]]=[c.synonyms[0],1]'''\n",
        "                    freq[l[i]]=c.synonyms[0]\n",
        "                    #print(l[i]+\" NAME:- \"+c.synonyms[0])\n",
        "                    \n",
        "              except:\n",
        "                    pass\n",
        "             \n",
        "        #print(l)\n",
        "f.close()\n",
        "       # return freq\n",
        "print(freq)\n"
      ],
      "execution_count": null,
      "outputs": [
        {
          "output_type": "stream",
          "text": [
            "PdfReadWarning: Xref table not zero-indexed. ID numbers for objects will be corrected. [pdf.py:1736]\n"
          ],
          "name": "stderr"
        },
        {
          "output_type": "stream",
          "text": [
            "{'Cu2': 'Copper dimer', 'Zn': '7440-66-6', 'Cu': '7440-50-8', 'Zn2': 'dizinc'}\n"
          ],
          "name": "stdout"
        }
      ]
    },
    {
      "cell_type": "code",
      "metadata": {
        "colab": {
          "base_uri": "https://localhost:8080/"
        },
        "id": "zvRqcKyQ68dm",
        "outputId": "a6dfbca5-80c9-40bf-fb63-4529782a3f40"
      },
      "source": [
        "#import docx\n",
        "import docx2txt\n",
        "#input=docx.Document('che.docx')\n",
        "l=[]\n",
        "text = docx2txt.process('che.docx')\n",
        "        \n",
        "for i in text.splitlines():\n",
        "    for j in i:\n",
        "        if(j=='→' and not i.startswith('→') ):\n",
        "            l.append(i)\n",
        "                    \n",
        "print(l)\n",
        "                \n"
      ],
      "execution_count": null,
      "outputs": [
        {
          "output_type": "stream",
          "text": [
            "['Mg + O2  →  MgO', 'Zinc + Sulphuric acid →  Zinc sulphate + Hydrogen', 'Zn + H2SO4 → ZnSO4 + H2', 'Fe + H2O → Fe3O4 + H2', '3Fe + 4H2O → Fe3O4 + 4H2', '3Fe(s) + 4H2O(g) → Fe3O4(s) + 4H2(g)', 'CO(g) + 2H2 (g) → CH3OH(l)', '\\t6CO2 (aq) +12H2 O(l)\\t→ C6 H12 O6 (aq) + 6O2 (aq) + 6H2O(l) (1.12) Chlorophyll', 'Hydrogen + Chlorine →  Hydrogen chloride', 'Barium chloride + Aluminium sulphate →    Barium sulphate +', 'Sodium + Water  →  Sodium hydroxide + Hydrogen', 'H2O(l) → Ca(OH)2(aq)', 'Ca(OH) (aq) + CO (g)  →', 'C(s) + O2(g) → CO2(g)', '2H2(g) + O2(g) → 2H2O(l)', 'CH4(g) + 2O2 (g) → CO2 (g) + 2H2O (g)', 'C6H12O6(aq) + 6O2(aq) → 6CO2(aq) + 6H2O(l) + energy (1.18)', '2FeSO4(s) →  Fe2O3(s) + SO2(g) + SO3(g)', 'CaCO3(s) →  CaO(s)  +  CO2(g)', '2Pb(NO3)2(s) → 2PbO(s)', ' → 2Ag(s) + Cl2(g)', ' → 2Ag(s) + Br2(g)', 'Fe(s) + CuSO4(aq) →', 'Zn(s) + CuSO4(aq) →', 'Pb(s) + CuCl2(aq) →', 'Na2SO4(aq) + BaCl2(aq) → BaSO4(s) + 2NaCl(aq)', '2Cu + O2→ 2CuO', 'CuO +H2→ Cu+H2O', 'ZnO + C →  Zn + CO', 'MnO2 + 4HCl → MnCl2 + 2H2 O + Cl2', '(i)  4Na(s) + O2(g) →  2Na2O(s)', '(ii) CuO(s) + H2(g) → Cu(s) + H2O(l)', '\\tWhich of the statements about the reaction below are incorrect? 2PbO(s) + C(s) → 2Pb(s) + CO2(g)', '\\tFe2O3 + 2Al → Al2O3 + 2Fe', '\\tHNO3 + Ca(OH)2 → Ca(NO3)2 + H2O', '\\tNaOH + H2SO4 → Na2SO4 + H2O', '\\tNaCl + AgNO3 → AgCl + NaNO3', '\\tBaCl2 + H2SO4 → BaSO4 + HCl', '\\tCalcium hydroxide + Carbon dioxide →  Calcium carbonate + Water', '\\tZinc + Silver nitrate →  Zinc nitrate + Silver', '\\tAluminium + Copper chloride →  Aluminium chloride + Copper', '\\tBarium chloride + Potassium sulphate → Barium sulphate + Potassium chloride', '\\tPotassium bromide(aq) + Barium iodide(aq) → Potassium iodide(aq) + Barium bromide(s)', '\\tZinc carbonate(s) →  Zinc oxide(s) + Carbon dioxide(g)', '\\tHydrogen(g) + Chlorine(g) →  Hydrogen chloride(g)', '\\tMagnesium(s) + Hydrochloric acid(aq) →  Magnesium chloride(aq) + Hydrogen(g)']\n"
          ],
          "name": "stdout"
        }
      ]
    }
  ]
}